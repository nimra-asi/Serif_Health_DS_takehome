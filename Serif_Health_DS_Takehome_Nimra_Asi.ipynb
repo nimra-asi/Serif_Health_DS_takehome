{
 "cells": [
  {
   "cell_type": "code",
   "execution_count": 264,
   "metadata": {},
   "outputs": [],
   "source": [
    "# importing libraries\n",
    "import pandas as pd\n",
    "import numpy as np\n",
    "pd.set_option('display.max_columns', None)\n",
    "pd.options.mode.chained_assignment = None  # default='warn'"
   ]
  },
  {
   "cell_type": "markdown",
   "metadata": {},
   "source": [
    "### set location variables for data read-in and saving outputs"
   ]
  },
  {
   "cell_type": "code",
   "execution_count": 265,
   "metadata": {},
   "outputs": [],
   "source": [
    "# update hospital_extract_data_loc variable with the location of the dataset on your machine\n",
    "hospital_extract_data_loc = \"hospital_extract_20250203.csv\"\n",
    "\n",
    "# update the payer_extract_data_loc variable with the location of the data on your machine\n",
    "payer_extract_data_loc = \"payer_extract_20250203.csv\"\n",
    "\n",
    "# update the output_loc with variable with the location where you would like to save the outputs\n",
    "output_loc = \"C:/Users/Nimra/Downloads/\""
   ]
  },
  {
   "cell_type": "markdown",
   "metadata": {},
   "source": [
    "#### reading in the data extracts"
   ]
  },
  {
   "cell_type": "code",
   "execution_count": 266,
   "metadata": {},
   "outputs": [
    {
     "name": "stdout",
     "output_type": "stream",
     "text": [
      "(222, 17)\n"
     ]
    },
    {
     "data": {
      "text/html": [
       "<div>\n",
       "<style scoped>\n",
       "    .dataframe tbody tr th:only-of-type {\n",
       "        vertical-align: middle;\n",
       "    }\n",
       "\n",
       "    .dataframe tbody tr th {\n",
       "        vertical-align: top;\n",
       "    }\n",
       "\n",
       "    .dataframe thead th {\n",
       "        text-align: right;\n",
       "    }\n",
       "</style>\n",
       "<table border=\"1\" class=\"dataframe\">\n",
       "  <thead>\n",
       "    <tr style=\"text-align: right;\">\n",
       "      <th></th>\n",
       "      <th>payer</th>\n",
       "      <th>network_name</th>\n",
       "      <th>network_id</th>\n",
       "      <th>network_year_month</th>\n",
       "      <th>network_region</th>\n",
       "      <th>code</th>\n",
       "      <th>code_type</th>\n",
       "      <th>ein</th>\n",
       "      <th>taxonomy_filtered_npi_list</th>\n",
       "      <th>modifier_list</th>\n",
       "      <th>billing_class</th>\n",
       "      <th>place_of_service_list</th>\n",
       "      <th>negotiation_type</th>\n",
       "      <th>arrangement</th>\n",
       "      <th>rate</th>\n",
       "      <th>cms_baseline_schedule</th>\n",
       "      <th>cms_baseline_rate</th>\n",
       "    </tr>\n",
       "  </thead>\n",
       "  <tbody>\n",
       "    <tr>\n",
       "      <th>0</th>\n",
       "      <td>unitedhealthcare</td>\n",
       "      <td>choice-plus</td>\n",
       "      <td>592bc118-0dac-4f38-949c-11dc9b3a3879</td>\n",
       "      <td>202501</td>\n",
       "      <td>USA</td>\n",
       "      <td>872</td>\n",
       "      <td>MS-DRG</td>\n",
       "      <td>131740114</td>\n",
       "      <td>1003990763,1023202793,1063525152,1063606739,10...</td>\n",
       "      <td>NaN</td>\n",
       "      <td>institutional</td>\n",
       "      <td>NaN</td>\n",
       "      <td>negotiated</td>\n",
       "      <td>ffs</td>\n",
       "      <td>15902.00</td>\n",
       "      <td>IPPS</td>\n",
       "      <td>6829.75</td>\n",
       "    </tr>\n",
       "    <tr>\n",
       "      <th>1</th>\n",
       "      <td>unitedhealthcare</td>\n",
       "      <td>choice-plus</td>\n",
       "      <td>592bc118-0dac-4f38-949c-11dc9b3a3879</td>\n",
       "      <td>202501</td>\n",
       "      <td>USA</td>\n",
       "      <td>99283</td>\n",
       "      <td>CPT</td>\n",
       "      <td>131624096</td>\n",
       "      <td>1003255670,1245759711,1487026522,1598095267,16...</td>\n",
       "      <td>NaN</td>\n",
       "      <td>professional</td>\n",
       "      <td>11</td>\n",
       "      <td>negotiated</td>\n",
       "      <td>ffs</td>\n",
       "      <td>123.86</td>\n",
       "      <td>PFS_NONFACILITY_1320201</td>\n",
       "      <td>76.89</td>\n",
       "    </tr>\n",
       "  </tbody>\n",
       "</table>\n",
       "</div>"
      ],
      "text/plain": [
       "              payer network_name                            network_id  \\\n",
       "0  unitedhealthcare  choice-plus  592bc118-0dac-4f38-949c-11dc9b3a3879   \n",
       "1  unitedhealthcare  choice-plus  592bc118-0dac-4f38-949c-11dc9b3a3879   \n",
       "\n",
       "   network_year_month network_region   code code_type        ein  \\\n",
       "0              202501            USA    872    MS-DRG  131740114   \n",
       "1              202501            USA  99283       CPT  131624096   \n",
       "\n",
       "                          taxonomy_filtered_npi_list modifier_list  \\\n",
       "0  1003990763,1023202793,1063525152,1063606739,10...           NaN   \n",
       "1  1003255670,1245759711,1487026522,1598095267,16...           NaN   \n",
       "\n",
       "   billing_class place_of_service_list negotiation_type arrangement      rate  \\\n",
       "0  institutional                   NaN       negotiated         ffs  15902.00   \n",
       "1   professional                    11       negotiated         ffs    123.86   \n",
       "\n",
       "     cms_baseline_schedule  cms_baseline_rate  \n",
       "0                     IPPS            6829.75  \n",
       "1  PFS_NONFACILITY_1320201              76.89  "
      ]
     },
     "execution_count": 266,
     "metadata": {},
     "output_type": "execute_result"
    }
   ],
   "source": [
    "hp = pd.read_csv(hospital_extract_data_loc)\n",
    "print(hp.shape)\n",
    "hp.isna().sum()\n",
    "hp.head(2)"
   ]
  },
  {
   "cell_type": "code",
   "execution_count": 267,
   "metadata": {},
   "outputs": [
    {
     "name": "stdout",
     "output_type": "stream",
     "text": [
      "(2950, 22)\n"
     ]
    },
    {
     "data": {
      "text/html": [
       "<div>\n",
       "<style scoped>\n",
       "    .dataframe tbody tr th:only-of-type {\n",
       "        vertical-align: middle;\n",
       "    }\n",
       "\n",
       "    .dataframe tbody tr th {\n",
       "        vertical-align: top;\n",
       "    }\n",
       "\n",
       "    .dataframe thead th {\n",
       "        text-align: right;\n",
       "    }\n",
       "</style>\n",
       "<table border=\"1\" class=\"dataframe\">\n",
       "  <thead>\n",
       "    <tr style=\"text-align: right;\">\n",
       "      <th></th>\n",
       "      <th>source_file_name</th>\n",
       "      <th>hospital_id</th>\n",
       "      <th>hospital_name</th>\n",
       "      <th>last_updated_on</th>\n",
       "      <th>hospital_state</th>\n",
       "      <th>license_number</th>\n",
       "      <th>payer_name</th>\n",
       "      <th>plan_name</th>\n",
       "      <th>code_type</th>\n",
       "      <th>raw_code</th>\n",
       "      <th>description</th>\n",
       "      <th>setting</th>\n",
       "      <th>modifiers</th>\n",
       "      <th>standard_charge_gross</th>\n",
       "      <th>standard_charge_discounted_cash</th>\n",
       "      <th>standard_charge_negotiated_dollar</th>\n",
       "      <th>standard_charge_negotiated_percentage</th>\n",
       "      <th>standard_charge_min</th>\n",
       "      <th>standard_charge_max</th>\n",
       "      <th>standard_charge_methodology</th>\n",
       "      <th>additional_payer_notes</th>\n",
       "      <th>additional_generic_notes</th>\n",
       "    </tr>\n",
       "  </thead>\n",
       "  <tbody>\n",
       "    <tr>\n",
       "      <th>0</th>\n",
       "      <td>13-1740114_montefiore-medical-center_standardc...</td>\n",
       "      <td>62915ae8-8d64-4e2f-b05f-b18edde57a3d</td>\n",
       "      <td>Montefiore Medical Center</td>\n",
       "      <td>2024-07-01</td>\n",
       "      <td>NY</td>\n",
       "      <td>13-1740114</td>\n",
       "      <td>Aetna</td>\n",
       "      <td>Medicare</td>\n",
       "      <td>CPT</td>\n",
       "      <td>99283</td>\n",
       "      <td>EMERGENCY DEPT VISIT LOW MDM</td>\n",
       "      <td>outpatient</td>\n",
       "      <td>NaN</td>\n",
       "      <td>NaN</td>\n",
       "      <td>NaN</td>\n",
       "      <td>323.34</td>\n",
       "      <td>NaN</td>\n",
       "      <td>83.78</td>\n",
       "      <td>1009.22</td>\n",
       "      <td>fee schedule</td>\n",
       "      <td>NaN</td>\n",
       "      <td>NaN</td>\n",
       "    </tr>\n",
       "    <tr>\n",
       "      <th>1</th>\n",
       "      <td>13-1740114_montefiore-medical-center_standardc...</td>\n",
       "      <td>62915ae8-8d64-4e2f-b05f-b18edde57a3d</td>\n",
       "      <td>Montefiore Medical Center</td>\n",
       "      <td>2024-07-01</td>\n",
       "      <td>NY</td>\n",
       "      <td>13-1740114</td>\n",
       "      <td>HealthFirst</td>\n",
       "      <td>Commercial Enrollees</td>\n",
       "      <td>CPT</td>\n",
       "      <td>43239</td>\n",
       "      <td>EGD BIOPSY SINGLE/MULTIPLE</td>\n",
       "      <td>outpatient</td>\n",
       "      <td>NaN</td>\n",
       "      <td>NaN</td>\n",
       "      <td>NaN</td>\n",
       "      <td>1037.65</td>\n",
       "      <td>NaN</td>\n",
       "      <td>165.40</td>\n",
       "      <td>3206.34</td>\n",
       "      <td>fee schedule</td>\n",
       "      <td>NaN</td>\n",
       "      <td>NaN</td>\n",
       "    </tr>\n",
       "  </tbody>\n",
       "</table>\n",
       "</div>"
      ],
      "text/plain": [
       "                                    source_file_name  \\\n",
       "0  13-1740114_montefiore-medical-center_standardc...   \n",
       "1  13-1740114_montefiore-medical-center_standardc...   \n",
       "\n",
       "                            hospital_id              hospital_name  \\\n",
       "0  62915ae8-8d64-4e2f-b05f-b18edde57a3d  Montefiore Medical Center   \n",
       "1  62915ae8-8d64-4e2f-b05f-b18edde57a3d  Montefiore Medical Center   \n",
       "\n",
       "  last_updated_on hospital_state license_number   payer_name  \\\n",
       "0      2024-07-01             NY     13-1740114        Aetna   \n",
       "1      2024-07-01             NY     13-1740114  HealthFirst   \n",
       "\n",
       "              plan_name code_type raw_code                   description  \\\n",
       "0              Medicare       CPT    99283  EMERGENCY DEPT VISIT LOW MDM   \n",
       "1  Commercial Enrollees       CPT    43239    EGD BIOPSY SINGLE/MULTIPLE   \n",
       "\n",
       "      setting modifiers  standard_charge_gross  \\\n",
       "0  outpatient       NaN                    NaN   \n",
       "1  outpatient       NaN                    NaN   \n",
       "\n",
       "   standard_charge_discounted_cash  standard_charge_negotiated_dollar  \\\n",
       "0                              NaN                             323.34   \n",
       "1                              NaN                            1037.65   \n",
       "\n",
       "   standard_charge_negotiated_percentage  standard_charge_min  \\\n",
       "0                                    NaN                83.78   \n",
       "1                                    NaN               165.40   \n",
       "\n",
       "   standard_charge_max standard_charge_methodology additional_payer_notes  \\\n",
       "0              1009.22                fee schedule                    NaN   \n",
       "1              3206.34                fee schedule                    NaN   \n",
       "\n",
       "  additional_generic_notes  \n",
       "0                      NaN  \n",
       "1                      NaN  "
      ]
     },
     "execution_count": 267,
     "metadata": {},
     "output_type": "execute_result"
    }
   ],
   "source": [
    "pe = pd.read_csv(payer_extract_data_loc)\n",
    "print(pe.shape)\n",
    "pe.isna().sum()\n",
    "pe.head(2)"
   ]
  },
  {
   "cell_type": "markdown",
   "metadata": {},
   "source": [
    "### some quick exploration of the data that is present"
   ]
  },
  {
   "cell_type": "code",
   "execution_count": 268,
   "metadata": {},
   "outputs": [
    {
     "name": "stdout",
     "output_type": "stream",
     "text": [
      "[  872 99283 43239]\n"
     ]
    },
    {
     "data": {
      "text/plain": [
       "array([131740114, 131624096, 133971298], dtype=int64)"
      ]
     },
     "execution_count": 268,
     "metadata": {},
     "output_type": "execute_result"
    }
   ],
   "source": [
    "hp['payer'].unique()\n",
    "hp['network_name'].unique()\n",
    "hp['network_id'].unique()\n",
    "hp['network_year_month'].unique()\n",
    "hp['network_region'].unique()\n",
    "print(hp['code'].unique())\n",
    "hp['code_type'].unique()\n",
    "# hp['taxonomy_filtered_npi_list'].nunique()\n",
    "# hp['modifier_list'].unique()\n",
    "# hp['billing_class'].unique()\n",
    "# hp['negotiation_type'].unique()\n",
    "# hp['arrangement'].unique()\n",
    "# hp['cms_baseline_rate'].unique()\n",
    "# hp['cms_baseline_schedule'].unique()\n",
    "hp['ein'].unique()"
   ]
  },
  {
   "cell_type": "markdown",
   "metadata": {},
   "source": [
    "#### mapping EINs to hospital names"
   ]
  },
  {
   "cell_type": "code",
   "execution_count": 269,
   "metadata": {},
   "outputs": [],
   "source": [
    "### some quick googling showed that the eins map as follows\n",
    "hp['hospital_name'] = ''\n",
    "\n",
    "hp['hospital_name'].loc[hp['ein']==131740114] = 'Montefiore Medical Center'\n",
    "hp['hospital_name'].loc[hp['ein']==131624096] = 'The Mount Sinai Hospital'\n",
    "hp['hospital_name'].loc[hp['ein']==133971298] = 'NYU Langone'"
   ]
  },
  {
   "cell_type": "code",
   "execution_count": 270,
   "metadata": {},
   "outputs": [
    {
     "data": {
      "text/plain": [
       "array(['Montefiore Medical Center', 'The Mount Sinai Hospital',\n",
       "       'NYU Langone'], dtype=object)"
      ]
     },
     "execution_count": 270,
     "metadata": {},
     "output_type": "execute_result"
    }
   ],
   "source": [
    "pe['raw_code'].nunique()\n",
    "pe['raw_code'].unique()\n",
    "pe['code_type'].unique()\n",
    "pe['setting'].unique()\n",
    "pe['source_file_name'].unique()\n",
    "pe['hospital_name'].unique()"
   ]
  },
  {
   "cell_type": "markdown",
   "metadata": {},
   "source": [
    "### checking for duplicates"
   ]
  },
  {
   "cell_type": "code",
   "execution_count": 271,
   "metadata": {},
   "outputs": [
    {
     "name": "stdout",
     "output_type": "stream",
     "text": [
      "(2950, 22)\n",
      "(222, 18)\n",
      "(2947, 22)\n"
     ]
    }
   ],
   "source": [
    "# checking for duplicates\n",
    "print(pe.shape)\n",
    "pe.drop_duplicates().shape\n",
    "\n",
    "print(hp.shape)\n",
    "hp.drop_duplicates().shape\n",
    "\n",
    "# looking at the 3 duplicated rows in the payer data\n",
    "pe.loc[pe.duplicated()] # appears to be only for a single hospital\n",
    "\n",
    "# dropping duplicates for now since only 3 rows out of ~3K\n",
    "pe = pe.drop_duplicates().reset_index(drop=True)\n",
    "print(pe.shape)"
   ]
  },
  {
   "cell_type": "markdown",
   "metadata": {},
   "source": [
    "### standardizing codes"
   ]
  },
  {
   "cell_type": "code",
   "execution_count": 272,
   "metadata": {},
   "outputs": [
    {
     "name": "stdout",
     "output_type": "stream",
     "text": [
      "(88, 22)\n",
      "['MS-DRG']\n",
      "(19, 18)\n",
      "['MS-DRG']\n",
      "['99283' '43239' '872' 'MS-DRG 872']\n"
     ]
    },
    {
     "data": {
      "text/plain": [
       "array([99283, 43239,   872], dtype=int64)"
      ]
     },
     "execution_count": 272,
     "metadata": {},
     "output_type": "execute_result"
    }
   ],
   "source": [
    "# standardizing the column names between the two extracts for convenience, arbitrarily picked \"code\" for column name here \n",
    "# since it's simpler here\n",
    "pe.rename(columns=({'raw_code': 'code'}), inplace=True)\n",
    "pe.head(3)\n",
    "\n",
    "# checking if MS-DRG 872 is the same as 872 in this dataset i.e. always occur together\n",
    "test = pe.loc[pe['code']=='872']\n",
    "print(test.shape)\n",
    "print(test['code_type'].unique()) # appears true for the payer data extract\n",
    "\n",
    "# doing the same for the hospital dataset\n",
    "hp['code'].unique()\n",
    "test = hp.loc[hp['code']==872]\n",
    "print(test.shape)\n",
    "print(test['code_type'].unique()) # also true for the hospital data extract\n",
    "\n",
    "# making the code columns the same data type, saving as integers for now since takes less space in Python. \n",
    "# the prefix MS-DRG does contain information so likely want to maintain that info somewhere (maintained in code_type here)\n",
    "print(pe['code'].unique())\n",
    "pe['code'].loc[pe['code']=='MS-DRG 872'] = 872\n",
    "pe['code'] = pe['code'].astype('int64')\n",
    "\n",
    "# # confirming that changes are present\n",
    "pe['code'].unique()"
   ]
  },
  {
   "cell_type": "markdown",
   "metadata": {},
   "source": [
    "### some very quick standardization of payer names"
   ]
  },
  {
   "cell_type": "code",
   "execution_count": 273,
   "metadata": {},
   "outputs": [
    {
     "name": "stdout",
     "output_type": "stream",
     "text": [
      "['Aetna' 'HealthFirst' 'Cigna' 'Oscar' 'Healthcare' 'United' 'Emblem'\n",
      " 'Humana' 'Fidelis' 'Centerlight' 'Partners' 'Northwell' 'Agewell'\n",
      " 'MetroPlus' 'Longevity' 'MVP' 'Hamaspik' 'WellCare' 'Empire' 'Elderplan'\n",
      " 'VNSNY' 'Nat' 'CentersPlan' 'UHC' 'VillageCareMAX' 'Senior' 'Nippon'\n",
      " 'Wellcare' 'SEIU1199' 'Molina' 'Multiplan' 'Magnacare' 'Centivo' 'Beacon'\n",
      " 'United Healthcare' 'Bright Health' 'Horizon' 'Amida Care' 'Oxford'\n",
      " 'Empire Medicare Advantage' 'Lifetrac' 'Independence Care' 'Affinity'\n",
      " '1199' 'bcbs' 'multiplan' 'cigna' 'oxford' 'hip' 'medicare' 'uhc' 'aetna'\n",
      " 'somos' 'metroplus' 'healthplus' 'healthfirst' 'fidelis' 'ghi'\n",
      " 'magnacare' 'amida' 'firsthealth' 'wellcare' 'medicaid' 'threerivers'\n",
      " 'centerlight' 'hamaspikchoice' 'Amidacare' 'Archcare' 'Christian'\n",
      " 'American' 'Brighton Health' 'Empire Healthplus' 'VNS']\n",
      "['unitedhealthcare' 'aetna' 'cigna-corporation']\n"
     ]
    },
    {
     "data": {
      "text/plain": [
       "(18, 22)"
      ]
     },
     "execution_count": 273,
     "metadata": {},
     "output_type": "execute_result"
    }
   ],
   "source": [
    "# doing some very basic manual string standardization here, since we only have 3 payers in the hospital dataset. \n",
    "# Ideally would want to build up and maintain a reference list over time of the different names \n",
    "# that have been / can be used for the same payer for quick and efficient cross-matching.\n",
    "\n",
    "print(pe['payer_name'].unique())\n",
    "print(hp['payer'].unique())\n",
    "\n",
    "# standardizing column name across datasets\n",
    "pe.rename(columns=({'payer_name': 'payer'}), inplace=True)\n",
    "pe['payer'].loc[pe['payer']=='cigna'] = 'Cigna'\n",
    "pe['payer'].loc[pe['payer']=='aetna'] = 'Aetna'\n",
    "\n",
    "# standardizing column values for the 3 plans in the hospital data, used snake case here bc more readable\n",
    "hp['payer'].loc[hp['payer']=='unitedhealthcare'] = 'United Healthcare'\n",
    "hp['payer'].loc[hp['payer']=='aetna'] = 'Aetna'\n",
    "hp['payer'].loc[hp['payer']=='cigna-corporation'] = 'Cigna'\n",
    "\n",
    "# have 2 entries in payer extract that may be a typo of United Healthcare, checking freq of occurence\n",
    "pe.loc[pe['payer'].isin(['United', 'Healthcare'])].shape\n",
    "# few enough that may be a typo, leaving alone for now until can research further"
   ]
  },
  {
   "cell_type": "markdown",
   "metadata": {},
   "source": [
    "### look at dates for potential matching signal"
   ]
  },
  {
   "cell_type": "code",
   "execution_count": 274,
   "metadata": {},
   "outputs": [
    {
     "name": "stdout",
     "output_type": "stream",
     "text": [
      "['2024-07-01' '2024-09-16' '2025-01-01']\n",
      "[202501]\n",
      "['source_file_name', 'hospital_id', 'hospital_name', 'hospital_state', 'license_number', 'payer', 'plan_name', 'code_type', 'code', 'description', 'setting', 'modifiers', 'standard_charge_gross', 'standard_charge_discounted_cash', 'standard_charge_negotiated_dollar', 'standard_charge_negotiated_percentage', 'standard_charge_min', 'standard_charge_max', 'standard_charge_methodology', 'additional_payer_notes', 'additional_generic_notes']\n"
     ]
    },
    {
     "data": {
      "text/plain": [
       "(2947,)"
      ]
     },
     "execution_count": 274,
     "metadata": {},
     "output_type": "execute_result"
    }
   ],
   "source": [
    "print(pe['last_updated_on'].unique())\n",
    "print(hp['network_year_month'].unique())\n",
    "\n",
    "# if this data is updated every month (as opposed to only when needed)\n",
    "# may be able to keep only the 01-2025 rates to match against the hospital data\n",
    "\n",
    "# checking if data is duplicated across months in the payer data\n",
    "cols_to_check = [x for x in pe.columns if x not in ['last_updated_on']]\n",
    "print(cols_to_check)\n",
    "pe.duplicated(subset=cols_to_check).shape # doesn't seem like it\n",
    "\n",
    "# keeping all months of \"last_updated_on\" in payer data, since inconclusive for now"
   ]
  },
  {
   "cell_type": "markdown",
   "metadata": {},
   "source": [
    "### checking to see if there are additional columns that can be matched on"
   ]
  },
  {
   "cell_type": "code",
   "execution_count": 275,
   "metadata": {},
   "outputs": [
    {
     "name": "stdout",
     "output_type": "stream",
     "text": [
      "['IPPS' 'PFS_NONFACILITY_1320201' 'PFS_NONFACILITY_1320202'\n",
      " 'PFS_NONFACILITY_1320203' 'PFS_NONFACILITY_0610216' 'OPPS'\n",
      " 'PFS_NONFACILITY_1240201' 'PFS_FACILITY_1320202'\n",
      " 'PFS_NONFACILITY_1329204' 'PFS_FACILITY_NPA' 'PFS_NONFACILITY_0111263'\n",
      " 'PFS_FACILITY_1320201' nan 'PFS_NONFACILITY_1328299'\n",
      " 'PFS_NONFACILITY_0820201' 'PFS_FACILITY_1329204' 'PFS_FACILITY_1240201'\n",
      " 'PFS_FACILITY_0111263' 'PFS_NONFACILITY_0910299']\n",
      "['institutional' 'professional']\n",
      "['ffs']\n",
      "['negotiated' 'fee schedule' 'percentage']\n",
      " \n",
      "PAYER INFO\n",
      "['outpatient' 'both' 'inpatient']\n",
      "['fee schedule' 'other' 'case rate' 'per diem' 'Fee Schedule'\n",
      " 'percent of total billed charges' 'Other' 'Case Rate' nan\n",
      " 'Percent of total billed charges' 'Case rate' '5228' '93157.15' '11671'\n",
      " '32829.5' '17412.69']\n"
     ]
    }
   ],
   "source": [
    "print(hp['cms_baseline_schedule'].unique())\n",
    "print(hp['billing_class'].unique())\n",
    "print(hp['arrangement'].unique())\n",
    "print(hp['negotiation_type'].unique())\n",
    "# print(hp['place_of_service_list'].unique())\n",
    "\n",
    "# try to find comparable flag in payer data extract\n",
    "print(' ')\n",
    "print(\"PAYER INFO\")\n",
    "print(pe['setting'].unique())\n",
    "# print(pe['description'].unique())\n",
    "print(pe['standard_charge_methodology'].unique())\n",
    "# print(pe['additional_payer_notes'].unique())"
   ]
  },
  {
   "cell_type": "markdown",
   "metadata": {},
   "source": [
    "### check matching on the 3 columns we have the most confidence in / are the most straightforward: code, payer, hospital_name"
   ]
  },
  {
   "cell_type": "code",
   "execution_count": 276,
   "metadata": {},
   "outputs": [
    {
     "name": "stdout",
     "output_type": "stream",
     "text": [
      "(265, 22)\n",
      "('hospital extract # rows:', 222)\n",
      "('payer extract # rows:', 265)\n",
      "(2857, 38)\n"
     ]
    }
   ],
   "source": [
    "# keep only the payers that are in the hospital dataset for now\n",
    "pe_subset = pe.loc[pe['payer'].isin(['Aetna', 'United Healthcare', 'Cigna'])].reset_index(drop=True)\n",
    "print(pe_subset.shape)\n",
    "\n",
    "merged_df = hp.merge(pe_subset, on=['code', 'payer', 'hospital_name'], how='inner', indicator=True)\n",
    "print((\"hospital extract # rows:\", hp.shape[0]))\n",
    "print((\"payer extract # rows:\", pe_subset.shape[0]))\n",
    "print(merged_df.shape) # "
   ]
  },
  {
   "cell_type": "markdown",
   "metadata": {},
   "source": [
    "### checking match rates"
   ]
  },
  {
   "cell_type": "code",
   "execution_count": 277,
   "metadata": {},
   "outputs": [
    {
     "name": "stdout",
     "output_type": "stream",
     "text": [
      "(2890, 19)\n",
      "(33, 19)\n",
      "33 rows in the hospital data were not matched out of 222 total rows in hospital extract\n",
      "match rate: 85%\n",
      "(2878, 23)\n",
      "(21, 23)\n",
      "21 rows in the payer data were not matched out of 265 total rows (for relevant payers only) in the payer extract\n",
      "match rate: 92%\n"
     ]
    }
   ],
   "source": [
    "# checking match rate\n",
    "temp = hp.merge(pe_subset[['code', 'payer', 'hospital_name']], on=['code', 'payer', 'hospital_name'],\n",
    "                                         how='left', indicator=True)\n",
    "print(temp.shape)\n",
    "temp.head()\n",
    "\n",
    "unmatched_hospital = temp.loc[temp['_merge']=='left_only'].reset_index(drop=True)\n",
    "print(unmatched_hospital.shape)\n",
    "# saving unmatched rows\n",
    "unmatched_hospital.drop(columns=['_merge'], inplace=True)\n",
    "unmatched_hospital = unmatched_hospital.drop_duplicates().reset_index(drop=True)\n",
    "file_loc = output_loc + \"hospital_extract_unmatched_rows.csv\"\n",
    "unmatched_hospital.to_csv(file_loc, index=False)\n",
    "print(f\"{unmatched_hospital.shape[0]} rows in the hospital data were not matched out of {hp.shape[0]} total rows in hospital extract\")\n",
    "match_rate = round((hp.shape[0] - unmatched_hospital.shape[0]) / hp.shape[0] * 100)\n",
    "print(f\"match rate: {match_rate}%\")\n",
    "\n",
    "# repeating above for the payer extract\n",
    "temp = pe_subset.merge(hp[['code', 'payer', 'hospital_name']], on=['code', 'payer', 'hospital_name'],\n",
    "                                         how='left', indicator=True)\n",
    "print(temp.shape)\n",
    "temp.head()\n",
    "\n",
    "unmatched_payer = temp.loc[temp['_merge']=='left_only'].reset_index(drop=True)\n",
    "print(unmatched_payer.shape)\n",
    "# saving unmatched rows\n",
    "unmatched_payer.drop(columns=['_merge'], inplace=True)\n",
    "unmatched_payer = unmatched_payer.drop_duplicates().reset_index(drop=True)\n",
    "file_loc = output_loc + \"payer_extract_unmatched_rows.csv\"\n",
    "unmatched_payer.to_csv(file_loc, index=False)\n",
    "print(f\"{unmatched_payer.shape[0]} rows in the payer data were not matched out of {pe_subset.shape[0]} total rows (for relevant payers only) in the payer extract\")\n",
    "match_rate = round((pe_subset.shape[0] - unmatched_payer.shape[0]) / pe_subset.shape[0] * 100)\n",
    "print(f\"match rate: {match_rate}%\")"
   ]
  },
  {
   "cell_type": "markdown",
   "metadata": {},
   "source": [
    "### delving further into potential columns that may be used for matching"
   ]
  },
  {
   "cell_type": "markdown",
   "metadata": {},
   "source": [
    "#### looks like \"setting\" in the payer extract may be analogous to \"cms_baseline_schedule\" in hospital extract"
   ]
  },
  {
   "cell_type": "code",
   "execution_count": 278,
   "metadata": {},
   "outputs": [
    {
     "data": {
      "text/plain": [
       "array(['IPPS', 'PFS_NONFACILITY_1320201', 'PFS_NONFACILITY_1320202',\n",
       "       'PFS_NONFACILITY_1320203', 'PFS_NONFACILITY_0610216', 'OPPS',\n",
       "       'PFS_NONFACILITY_1240201', 'PFS_FACILITY_1320202',\n",
       "       'PFS_NONFACILITY_1329204', 'PFS_FACILITY_NPA',\n",
       "       'PFS_NONFACILITY_0111263', 'PFS_FACILITY_1320201', nan,\n",
       "       'PFS_NONFACILITY_1328299', 'PFS_NONFACILITY_0820201',\n",
       "       'PFS_FACILITY_1329204', 'PFS_FACILITY_1240201',\n",
       "       'PFS_FACILITY_0111263', 'PFS_NONFACILITY_0910299'], dtype=object)"
      ]
     },
     "execution_count": 278,
     "metadata": {},
     "output_type": "execute_result"
    }
   ],
   "source": [
    "hp['cms_baseline_schedule'].unique()"
   ]
  },
  {
   "cell_type": "code",
   "execution_count": 279,
   "metadata": {},
   "outputs": [
    {
     "data": {
      "text/plain": [
       "0       outpatient\n",
       "1       outpatient\n",
       "2       outpatient\n",
       "3       outpatient\n",
       "4       outpatient\n",
       "           ...    \n",
       "2942          both\n",
       "2943     inpatient\n",
       "2944          both\n",
       "2945     inpatient\n",
       "2946          both\n",
       "Name: setting, Length: 2947, dtype: object"
      ]
     },
     "execution_count": 279,
     "metadata": {},
     "output_type": "execute_result"
    }
   ],
   "source": [
    "pe['setting']"
   ]
  },
  {
   "cell_type": "code",
   "execution_count": 280,
   "metadata": {},
   "outputs": [
    {
     "data": {
      "text/html": [
       "<div>\n",
       "<style scoped>\n",
       "    .dataframe tbody tr th:only-of-type {\n",
       "        vertical-align: middle;\n",
       "    }\n",
       "\n",
       "    .dataframe tbody tr th {\n",
       "        vertical-align: top;\n",
       "    }\n",
       "\n",
       "    .dataframe thead th {\n",
       "        text-align: right;\n",
       "    }\n",
       "</style>\n",
       "<table border=\"1\" class=\"dataframe\">\n",
       "  <thead>\n",
       "    <tr style=\"text-align: right;\">\n",
       "      <th></th>\n",
       "      <th>payer</th>\n",
       "      <th>network_name</th>\n",
       "      <th>network_id</th>\n",
       "      <th>network_year_month</th>\n",
       "      <th>network_region</th>\n",
       "      <th>code</th>\n",
       "      <th>code_type</th>\n",
       "      <th>ein</th>\n",
       "      <th>taxonomy_filtered_npi_list</th>\n",
       "      <th>modifier_list</th>\n",
       "      <th>billing_class</th>\n",
       "      <th>place_of_service_list</th>\n",
       "      <th>negotiation_type</th>\n",
       "      <th>arrangement</th>\n",
       "      <th>rate</th>\n",
       "      <th>cms_baseline_schedule</th>\n",
       "      <th>cms_baseline_rate</th>\n",
       "      <th>hospital_name</th>\n",
       "      <th>setting</th>\n",
       "    </tr>\n",
       "  </thead>\n",
       "  <tbody>\n",
       "    <tr>\n",
       "      <th>84</th>\n",
       "      <td>Aetna</td>\n",
       "      <td>open-access-managed-choice</td>\n",
       "      <td>39f0d406-b5df-4046-9759-f08565e45db7</td>\n",
       "      <td>202501</td>\n",
       "      <td>USA</td>\n",
       "      <td>99283</td>\n",
       "      <td>CPT</td>\n",
       "      <td>131740114</td>\n",
       "      <td>1063525152,1235584079,1306423975,1851151971</td>\n",
       "      <td>NaN</td>\n",
       "      <td>professional</td>\n",
       "      <td>23</td>\n",
       "      <td>negotiated</td>\n",
       "      <td>ffs</td>\n",
       "      <td>267.0</td>\n",
       "      <td>unknown</td>\n",
       "      <td>NaN</td>\n",
       "      <td>Montefiore Medical Center</td>\n",
       "      <td>NaN</td>\n",
       "    </tr>\n",
       "  </tbody>\n",
       "</table>\n",
       "</div>"
      ],
      "text/plain": [
       "    payer                network_name                            network_id  \\\n",
       "84  Aetna  open-access-managed-choice  39f0d406-b5df-4046-9759-f08565e45db7   \n",
       "\n",
       "    network_year_month network_region   code code_type        ein  \\\n",
       "84              202501            USA  99283       CPT  131740114   \n",
       "\n",
       "                     taxonomy_filtered_npi_list modifier_list billing_class  \\\n",
       "84  1063525152,1235584079,1306423975,1851151971           NaN  professional   \n",
       "\n",
       "   place_of_service_list negotiation_type arrangement   rate  \\\n",
       "84                    23       negotiated         ffs  267.0   \n",
       "\n",
       "   cms_baseline_schedule  cms_baseline_rate              hospital_name setting  \n",
       "84               unknown                NaN  Montefiore Medical Center     NaN  "
      ]
     },
     "execution_count": 280,
     "metadata": {},
     "output_type": "execute_result"
    }
   ],
   "source": [
    "# create a new column for 'setting' in the hospital data corresponding to the 'setting column\n",
    "# in the payer data, based on the cms_baseline_schedule column in the hospital data\n",
    "# choosing to create setting to match since it is the broader/ more general category\n",
    "\n",
    "hp['cms_baseline_schedule'].loc[hp['cms_baseline_schedule'].isna()] = 'unknown' # deal with missing vals \n",
    "\n",
    "hp['setting'] = np.nan\n",
    "hp['setting'].loc[hp['cms_baseline_schedule'].isin(['IPPS'])] = 'inpatient'\n",
    "hp['setting'].loc[hp['cms_baseline_schedule'].isin(['OPPS', 'PFS_NONFACILITY_'])] = 'outpatient'\n",
    "hp['setting'].loc[hp['cms_baseline_schedule'].str.contains('PFS_NONFACILITY_')] = 'outpatient'\n",
    "\n",
    "\n",
    "# less sure about this mapping but keeping for now\n",
    "hp['setting'].loc[hp['cms_baseline_schedule'].str.contains('PFS_FACILITY_')] = 'both'\n",
    "\n",
    "# some checks to see if above occurred correctly\n",
    "hp.isna().sum()\n",
    "test = hp.loc[hp['setting'].isna()]\n",
    "test['cms_baseline_schedule'].unique()\n",
    "test"
   ]
  },
  {
   "cell_type": "markdown",
   "metadata": {},
   "source": [
    "#### checking if negotiation_type in hospital data can be analogous to standard_charge_methodology in payer data"
   ]
  },
  {
   "cell_type": "code",
   "execution_count": 281,
   "metadata": {},
   "outputs": [
    {
     "name": "stdout",
     "output_type": "stream",
     "text": [
      "['ffs']\n",
      "['negotiated' 'fee schedule' 'percentage']\n",
      " \n",
      "PAYER INFO\n",
      "['fee schedule' 'other' 'case rate' 'per diem' 'Fee Schedule'\n",
      " 'percent of total billed charges' 'Other' 'Case Rate' nan\n",
      " 'Percent of total billed charges' 'Case rate' '5228' '93157.15' '11671'\n",
      " '32829.5' '17412.69']\n"
     ]
    }
   ],
   "source": [
    "# seeing if can match on arrangement / negotiation type in hospital data to 'standard_charge_methododlogy\n",
    "# in the payer data\n",
    "\n",
    "print(hp['arrangement'].unique()) ## all values say ffs so less informative on its own\n",
    "print(hp['negotiation_type'].unique())\n",
    "\n",
    "print(' ')\n",
    "print('PAYER INFO')\n",
    "print(pe['standard_charge_methodology'].unique())\n",
    "\n",
    "# standardize values in the standard_charge_methodology_column / fill in missing values\n",
    "pe['standard_charge_methodology'].loc[pe['standard_charge_methodology'].isin(['Fee Schedule', \n",
    "                                                                              'fee schedule'])] = 'fee schedule'\n",
    "pe['standard_charge_methodology'].loc[pe['standard_charge_methodology'].isin(['other', \n",
    "                                                                              'Other'])] = 'other'\n",
    "pe['standard_charge_methodology'].loc[pe['standard_charge_methodology'].isin(['case rate', \n",
    "                                                                   'Case Rate', \n",
    "                                                                   'Case rate'])] = 'case rate'\n",
    "pe['standard_charge_methodology'].loc[pe['standard_charge_methodology'].isna()] = 'unknown'\n",
    "pe['standard_charge_methodology'].loc[pe['standard_charge_methodology'].isin(['Percent of total billed charges'])] = 'percent of total billed charges'\n",
    "\n",
    "# create an additional column to match to in the hospital data (negotiation_type) and fill out\n",
    "pe['negotiation_type'] = np.nan\n",
    "pe['negotiation_type'].loc[pe['standard_charge_methodology']=='percent of total billed charges'] = 'percentage'\n",
    "pe['negotiation_type'].loc[pe['standard_charge_methodology']=='fee schedule'] = 'fee schedule'\n",
    "pe['negotiation_type'].loc[pe['standard_charge_methodology'].isin(['other', 'case rate', 'unknown',\n",
    "                                                                   'per diem',\n",
    "                                                                   '5228', '93157.15', '11671', '32829.5', '17412.69'])] = 'negotiated'\n",
    "pe['negotiation_type'].loc[pe['standard_charge_methodology']=='unknown'] = 'unknown'\n"
   ]
  },
  {
   "cell_type": "code",
   "execution_count": 282,
   "metadata": {},
   "outputs": [
    {
     "name": "stdout",
     "output_type": "stream",
     "text": [
      "['fee schedule' 'negotiated' 'percentage' 'unknown']\n",
      "['negotiated' 'fee schedule' 'percentage']\n"
     ]
    }
   ],
   "source": [
    "# quick check of changes made above \n",
    "print(pe['negotiation_type'].unique())\n",
    "print(hp['negotiation_type'].unique())"
   ]
  },
  {
   "cell_type": "markdown",
   "metadata": {},
   "source": [
    "#### looking further into rates, if can match directly on them"
   ]
  },
  {
   "cell_type": "code",
   "execution_count": 283,
   "metadata": {},
   "outputs": [
    {
     "name": "stdout",
     "output_type": "stream",
     "text": [
      "[3 1 2 5 4]\n"
     ]
    }
   ],
   "source": [
    "hp.columns\n",
    "hp.head(2)\n",
    "\n",
    "# hospital data is relatively straightforward, only 2 rates mentioned (rate, cms_baseline_rate)\n",
    "\n",
    "pe.isna().sum()\n",
    "# have a large # of nans in the various rates column in the payer data so checking further\n",
    "pe['nan_count'] = pe[['standard_charge_gross', 'standard_charge_discounted_cash', \n",
    "                      'standard_charge_negotiated_dollar', 'standard_charge_negotiated_percentage',\n",
    "                      'standard_charge_min','standard_charge_max']].isna().sum(axis=1)\n",
    "print(pe['nan_count'].unique()) # looks like have at least one rate for each row in payer data\n",
    "\n",
    "# min and max appear to be the most populated columns, don't have a direct comparison in hospital data\n",
    "\n",
    "# if the rates are mutually exclusive, for e.g. if 'standard_charge_negotiated_percentage' is populated,\n",
    "# then does 'standard_charge_negotiated_dollar' always have to be nan and vice versa"
   ]
  },
  {
   "cell_type": "markdown",
   "metadata": {},
   "source": [
    "### matching the data now using the additional columns standardized above"
   ]
  },
  {
   "cell_type": "code",
   "execution_count": 284,
   "metadata": {},
   "outputs": [
    {
     "name": "stdout",
     "output_type": "stream",
     "text": [
      "(265, 24)\n",
      "(434, 39)\n"
     ]
    }
   ],
   "source": [
    "# keep only the payers that are in the hospital dataset, with the additional columns above\n",
    "pe_subset = pe.loc[pe['payer'].isin(['Aetna', 'United Healthcare', 'Cigna'])].reset_index(drop=True)\n",
    "print(pe_subset.shape)\n",
    "\n",
    "\n",
    "merged_df = hp.merge(pe_subset, on=['code', 'payer', 'hospital_name', \n",
    "                                    'setting', 'negotiation_type'], how='inner', indicator=True)\n",
    "print(merged_df.shape)"
   ]
  },
  {
   "cell_type": "markdown",
   "metadata": {},
   "source": [
    "#### calculating match rate with additional columns used"
   ]
  },
  {
   "cell_type": "code",
   "execution_count": 285,
   "metadata": {},
   "outputs": [
    {
     "name": "stdout",
     "output_type": "stream",
     "text": [
      "(599, 20)\n",
      "(165, 20)\n",
      "165 rows in the hospital data were not matched out of 222 total rows in hospital extract\n",
      "match rate: 26%\n",
      "(606, 25)\n",
      "(172, 25)\n",
      "172 rows in the payer data were not matched out of 265 total rows (for relevant payers only) in the payer extract\n",
      "match rate: 35%\n"
     ]
    }
   ],
   "source": [
    "# checking match rate\n",
    "temp = hp.merge(pe_subset[['code', 'payer', 'hospital_name', 'setting', 'negotiation_type']],\n",
    "                on=['code', 'payer', 'hospital_name', 'setting', 'negotiation_type'],\n",
    "                how='left', indicator=True)\n",
    "print(temp.shape)\n",
    "temp.head()\n",
    "\n",
    "unmatched_hospital = temp.loc[temp['_merge']=='left_only'].reset_index(drop=True)\n",
    "print(unmatched_hospital.shape)\n",
    "# calculating unmatched rows\n",
    "unmatched_hospital.drop(columns=['_merge'], inplace=True)\n",
    "unmatched_hospital = unmatched_hospital.drop_duplicates().reset_index(drop=True)\n",
    "print(f\"{unmatched_hospital.shape[0]} rows in the hospital data were not matched out of {hp.shape[0]} total rows in hospital extract\")\n",
    "match_rate = round((hp.shape[0] - unmatched_hospital.shape[0]) / hp.shape[0] * 100)\n",
    "print(f\"match rate: {match_rate}%\")\n",
    "\n",
    "# repeating above for the payer extract\n",
    "temp = pe_subset.merge(hp[['code', 'payer', 'hospital_name', 'setting', 'negotiation_type']], \n",
    "                       on=['code', 'payer', 'hospital_name', 'setting', 'negotiation_type'],\n",
    "                       how='left', indicator=True)\n",
    "print(temp.shape)\n",
    "temp.head()\n",
    "\n",
    "unmatched_payer = temp.loc[temp['_merge']=='left_only'].reset_index(drop=True)\n",
    "print(unmatched_payer.shape)\n",
    "# calculating unmatched rows\n",
    "unmatched_payer.drop(columns=['_merge'], inplace=True)\n",
    "unmatched_payer = unmatched_payer.drop_duplicates().reset_index(drop=True)\n",
    "print(f\"{unmatched_payer.shape[0]} rows in the payer data were not matched out of {pe_subset.shape[0]} total rows (for relevant payers only) in the payer extract\")\n",
    "match_rate = round((pe_subset.shape[0] - unmatched_payer.shape[0]) / pe_subset.shape[0] * 100)\n",
    "print(f\"match rate: {match_rate}%\")"
   ]
  },
  {
   "cell_type": "markdown",
   "metadata": {},
   "source": [
    "#### see data \"expansion\" when go down sharply but unmatched data also increases substantially"
   ]
  },
  {
   "cell_type": "markdown",
   "metadata": {},
   "source": [
    "### want to test if any direct matches on rate"
   ]
  },
  {
   "cell_type": "code",
   "execution_count": 286,
   "metadata": {},
   "outputs": [
    {
     "data": {
      "text/html": [
       "<div>\n",
       "<style scoped>\n",
       "    .dataframe tbody tr th:only-of-type {\n",
       "        vertical-align: middle;\n",
       "    }\n",
       "\n",
       "    .dataframe tbody tr th {\n",
       "        vertical-align: top;\n",
       "    }\n",
       "\n",
       "    .dataframe thead th {\n",
       "        text-align: right;\n",
       "    }\n",
       "</style>\n",
       "<table border=\"1\" class=\"dataframe\">\n",
       "  <thead>\n",
       "    <tr style=\"text-align: right;\">\n",
       "      <th></th>\n",
       "      <th>source_file_name</th>\n",
       "      <th>hospital_id</th>\n",
       "      <th>hospital_name</th>\n",
       "      <th>last_updated_on</th>\n",
       "      <th>hospital_state</th>\n",
       "      <th>license_number</th>\n",
       "      <th>payer</th>\n",
       "      <th>plan_name</th>\n",
       "      <th>code_type</th>\n",
       "      <th>code</th>\n",
       "      <th>description</th>\n",
       "      <th>setting</th>\n",
       "      <th>modifiers</th>\n",
       "      <th>standard_charge_gross</th>\n",
       "      <th>standard_charge_discounted_cash</th>\n",
       "      <th>standard_charge_negotiated_dollar</th>\n",
       "      <th>standard_charge_negotiated_percentage</th>\n",
       "      <th>standard_charge_min</th>\n",
       "      <th>standard_charge_max</th>\n",
       "      <th>standard_charge_methodology</th>\n",
       "      <th>additional_payer_notes</th>\n",
       "      <th>additional_generic_notes</th>\n",
       "      <th>negotiation_type</th>\n",
       "      <th>nan_count</th>\n",
       "    </tr>\n",
       "  </thead>\n",
       "  <tbody>\n",
       "    <tr>\n",
       "      <th>226</th>\n",
       "      <td>133971298-1801992631_nyu-langone-tisch_standar...</td>\n",
       "      <td>40e6a8c8-a68c-4d28-b1d5-fa70d6d09636</td>\n",
       "      <td>NYU Langone</td>\n",
       "      <td>2025-01-01</td>\n",
       "      <td>NY</td>\n",
       "      <td>7002053H</td>\n",
       "      <td>Aetna</td>\n",
       "      <td>aetnaindemnity1006</td>\n",
       "      <td>CPT</td>\n",
       "      <td>43239</td>\n",
       "      <td>EGD BIOPSY SINGLE/MULTIPLE</td>\n",
       "      <td>both</td>\n",
       "      <td>NaN</td>\n",
       "      <td>NaN</td>\n",
       "      <td>NaN</td>\n",
       "      <td>NaN</td>\n",
       "      <td>100.0</td>\n",
       "      <td>NaN</td>\n",
       "      <td>NaN</td>\n",
       "      <td>percent of total billed charges</td>\n",
       "      <td>100 percent of billed charges</td>\n",
       "      <td>NaN</td>\n",
       "      <td>percentage</td>\n",
       "      <td>5</td>\n",
       "    </tr>\n",
       "    <tr>\n",
       "      <th>249</th>\n",
       "      <td>133971298-1801992631_nyu-langone-tisch_standar...</td>\n",
       "      <td>40e6a8c8-a68c-4d28-b1d5-fa70d6d09636</td>\n",
       "      <td>NYU Langone</td>\n",
       "      <td>2025-01-01</td>\n",
       "      <td>NY</td>\n",
       "      <td>7002053H</td>\n",
       "      <td>Aetna</td>\n",
       "      <td>healthscope3250</td>\n",
       "      <td>LOCAL</td>\n",
       "      <td>43239</td>\n",
       "      <td>HEAD HUM 19MM 50MM SHLDR UNIVERS STRL LF CUF A...</td>\n",
       "      <td>both</td>\n",
       "      <td>NaN</td>\n",
       "      <td>32829.5</td>\n",
       "      <td>6237.61</td>\n",
       "      <td>NaN</td>\n",
       "      <td>NaN</td>\n",
       "      <td>NaN</td>\n",
       "      <td>NaN</td>\n",
       "      <td>unknown</td>\n",
       "      <td>Not separately priced</td>\n",
       "      <td>NaN</td>\n",
       "      <td>unknown</td>\n",
       "      <td>4</td>\n",
       "    </tr>\n",
       "  </tbody>\n",
       "</table>\n",
       "</div>"
      ],
      "text/plain": [
       "                                      source_file_name  \\\n",
       "226  133971298-1801992631_nyu-langone-tisch_standar...   \n",
       "249  133971298-1801992631_nyu-langone-tisch_standar...   \n",
       "\n",
       "                              hospital_id hospital_name last_updated_on  \\\n",
       "226  40e6a8c8-a68c-4d28-b1d5-fa70d6d09636   NYU Langone      2025-01-01   \n",
       "249  40e6a8c8-a68c-4d28-b1d5-fa70d6d09636   NYU Langone      2025-01-01   \n",
       "\n",
       "    hospital_state license_number  payer           plan_name code_type   code  \\\n",
       "226             NY       7002053H  Aetna  aetnaindemnity1006       CPT  43239   \n",
       "249             NY       7002053H  Aetna     healthscope3250     LOCAL  43239   \n",
       "\n",
       "                                           description setting modifiers  \\\n",
       "226                         EGD BIOPSY SINGLE/MULTIPLE    both       NaN   \n",
       "249  HEAD HUM 19MM 50MM SHLDR UNIVERS STRL LF CUF A...    both       NaN   \n",
       "\n",
       "     standard_charge_gross  standard_charge_discounted_cash  \\\n",
       "226                    NaN                              NaN   \n",
       "249                32829.5                          6237.61   \n",
       "\n",
       "     standard_charge_negotiated_dollar  standard_charge_negotiated_percentage  \\\n",
       "226                                NaN                                  100.0   \n",
       "249                                NaN                                    NaN   \n",
       "\n",
       "     standard_charge_min  standard_charge_max  \\\n",
       "226                  NaN                  NaN   \n",
       "249                  NaN                  NaN   \n",
       "\n",
       "         standard_charge_methodology         additional_payer_notes  \\\n",
       "226  percent of total billed charges  100 percent of billed charges   \n",
       "249                          unknown          Not separately priced   \n",
       "\n",
       "    additional_generic_notes negotiation_type  nan_count  \n",
       "226                      NaN       percentage          5  \n",
       "249                      NaN          unknown          4  "
      ]
     },
     "execution_count": 286,
     "metadata": {},
     "output_type": "execute_result"
    }
   ],
   "source": [
    "pe_subset.isna().sum()\n",
    "# standard_charge_negotiated_dollar is the most populated rate column in the payer data\n",
    "\n",
    "pe_subset.loc[pe_subset['standard_charge_negotiated_dollar'].isna()]"
   ]
  },
  {
   "cell_type": "code",
   "execution_count": 287,
   "metadata": {},
   "outputs": [],
   "source": [
    "pe_subset['match_flag'] = False\n",
    "rate_cols = ['standard_charge_gross', \n",
    "             'standard_charge_discounted_cash', 'standard_charge_negotiated_dollar', \n",
    "             'standard_charge_negotiated_percentage', 'standard_charge_min',\n",
    "             'standard_charge_max']\n",
    "\n",
    "# checking if any rate matches across the data - this code is inefficient but works since our sample is small, \n",
    "# would minimize for loops use depending on size of the data\n",
    "for p in ['United Healthcare', 'Aetna', 'Cigna']:\n",
    "    for code in [99283, 43239, 872]:\n",
    "        subset = hp.loc[((hp['payer']==p) & (hp['code']==code))]\n",
    "        rates_to_match = subset['rate'].unique().tolist()\n",
    "        # print(rates_to_match)\n",
    "        pe_subset['match_flag'] = pe_subset[rate_cols].isin(rates_to_match).any(axis=1)"
   ]
  },
  {
   "cell_type": "code",
   "execution_count": 288,
   "metadata": {},
   "outputs": [
    {
     "data": {
      "text/plain": [
       "(0, 25)"
      ]
     },
     "execution_count": 288,
     "metadata": {},
     "output_type": "execute_result"
    }
   ],
   "source": [
    "pe_subset.loc[pe_subset['match_flag']==True].shape # looks like no direct matches on rate across codes"
   ]
  },
  {
   "cell_type": "markdown",
   "metadata": {},
   "source": [
    "## Final Outputs Prepared"
   ]
  },
  {
   "cell_type": "code",
   "execution_count": 289,
   "metadata": {},
   "outputs": [
    {
     "name": "stdout",
     "output_type": "stream",
     "text": [
      "('hospital extract # rows:', 222)\n",
      "('payer extract # rows:', 265)\n",
      "(2857, 42)\n"
     ]
    }
   ],
   "source": [
    "merged_df = hp.merge(pe_subset, on=['code', 'payer', 'hospital_name'], how='inner', indicator=True)\n",
    "print((\"hospital extract # rows:\", hp.shape[0]))\n",
    "print((\"payer extract # rows:\", pe_subset.shape[0]))\n",
    "print(merged_df.shape) # "
   ]
  },
  {
   "cell_type": "markdown",
   "metadata": {},
   "source": [
    "### keeping only key columns / clean-up of columns names for the final output"
   ]
  },
  {
   "cell_type": "code",
   "execution_count": 290,
   "metadata": {},
   "outputs": [
    {
     "name": "stdout",
     "output_type": "stream",
     "text": [
      "(2857, 14)\n"
     ]
    },
    {
     "data": {
      "text/html": [
       "<div>\n",
       "<style scoped>\n",
       "    .dataframe tbody tr th:only-of-type {\n",
       "        vertical-align: middle;\n",
       "    }\n",
       "\n",
       "    .dataframe tbody tr th {\n",
       "        vertical-align: top;\n",
       "    }\n",
       "\n",
       "    .dataframe thead th {\n",
       "        text-align: right;\n",
       "    }\n",
       "</style>\n",
       "<table border=\"1\" class=\"dataframe\">\n",
       "  <thead>\n",
       "    <tr style=\"text-align: right;\">\n",
       "      <th></th>\n",
       "      <th>payer</th>\n",
       "      <th>code</th>\n",
       "      <th>hospital_name</th>\n",
       "      <th>code_type</th>\n",
       "      <th>hospital_state</th>\n",
       "      <th>cms_baseline_rate</th>\n",
       "      <th>hospital_rate</th>\n",
       "      <th>payer_standard_charge_gross</th>\n",
       "      <th>payer_standard_charge_discounted_cash</th>\n",
       "      <th>payer_standard_charge_negotiated_dollar</th>\n",
       "      <th>payer_standard_charge_negotiated_percentage</th>\n",
       "      <th>payer_standard_charge_min</th>\n",
       "      <th>payer_standard_charge_max</th>\n",
       "      <th>payer_standard_charge_methodology</th>\n",
       "    </tr>\n",
       "  </thead>\n",
       "  <tbody>\n",
       "    <tr>\n",
       "      <th>0</th>\n",
       "      <td>United Healthcare</td>\n",
       "      <td>99283</td>\n",
       "      <td>The Mount Sinai Hospital</td>\n",
       "      <td>CPT</td>\n",
       "      <td>NY</td>\n",
       "      <td>76.89</td>\n",
       "      <td>123.86</td>\n",
       "      <td>2100.0</td>\n",
       "      <td>329.95</td>\n",
       "      <td>329.95</td>\n",
       "      <td>NaN</td>\n",
       "      <td>78.0</td>\n",
       "      <td>395.94</td>\n",
       "      <td>fee schedule</td>\n",
       "    </tr>\n",
       "    <tr>\n",
       "      <th>1</th>\n",
       "      <td>United Healthcare</td>\n",
       "      <td>99283</td>\n",
       "      <td>The Mount Sinai Hospital</td>\n",
       "      <td>CPT</td>\n",
       "      <td>NY</td>\n",
       "      <td>76.89</td>\n",
       "      <td>123.86</td>\n",
       "      <td>2100.0</td>\n",
       "      <td>329.95</td>\n",
       "      <td>329.95</td>\n",
       "      <td>NaN</td>\n",
       "      <td>78.0</td>\n",
       "      <td>395.94</td>\n",
       "      <td>fee schedule</td>\n",
       "    </tr>\n",
       "  </tbody>\n",
       "</table>\n",
       "</div>"
      ],
      "text/plain": [
       "               payer   code             hospital_name code_type  \\\n",
       "0  United Healthcare  99283  The Mount Sinai Hospital       CPT   \n",
       "1  United Healthcare  99283  The Mount Sinai Hospital       CPT   \n",
       "\n",
       "  hospital_state  cms_baseline_rate  hospital_rate  \\\n",
       "0             NY              76.89         123.86   \n",
       "1             NY              76.89         123.86   \n",
       "\n",
       "   payer_standard_charge_gross  payer_standard_charge_discounted_cash  \\\n",
       "0                       2100.0                                 329.95   \n",
       "1                       2100.0                                 329.95   \n",
       "\n",
       "   payer_standard_charge_negotiated_dollar  \\\n",
       "0                                   329.95   \n",
       "1                                   329.95   \n",
       "\n",
       "   payer_standard_charge_negotiated_percentage  payer_standard_charge_min  \\\n",
       "0                                          NaN                       78.0   \n",
       "1                                          NaN                       78.0   \n",
       "\n",
       "   payer_standard_charge_max payer_standard_charge_methodology  \n",
       "0                     395.94                      fee schedule  \n",
       "1                     395.94                      fee schedule  "
      ]
     },
     "execution_count": 290,
     "metadata": {},
     "output_type": "execute_result"
    }
   ],
   "source": [
    "cols_to_use = ['payer', 'code', 'hospital_name','code_type_x',\n",
    "               'hospital_state', 'cms_baseline_rate', 'rate','standard_charge_gross', 'standard_charge_discounted_cash', \n",
    "               'standard_charge_negotiated_dollar', 'standard_charge_negotiated_percentage', 'standard_charge_min',\n",
    "               'standard_charge_max', 'standard_charge_methodology']\n",
    "\n",
    "output_df = merged_df[cols_to_use]\n",
    "output_df.rename(columns=({'code_type_x': 'code_type', \n",
    "                           'rate': 'hospital_rate',\n",
    "                           'standard_charge_gross': 'payer_standard_charge_gross', \n",
    "                           'standard_charge_discounted_cash': 'payer_standard_charge_discounted_cash', \n",
    "                           'standard_charge_negotiated_dollar': 'payer_standard_charge_negotiated_dollar', \n",
    "                           'standard_charge_negotiated_percentage': 'payer_standard_charge_negotiated_percentage', \n",
    "                           'standard_charge_min': 'payer_standard_charge_min',\n",
    "                           'standard_charge_max': 'payer_standard_charge_max', \n",
    "                           'standard_charge_methodology': 'payer_standard_charge_methodology'}), inplace=True)\n",
    "\n",
    "print(output_df.shape)\n",
    "output_df.head(2)"
   ]
  },
  {
   "cell_type": "markdown",
   "metadata": {},
   "source": [
    "#### saving the output merged df"
   ]
  },
  {
   "cell_type": "code",
   "execution_count": 291,
   "metadata": {},
   "outputs": [],
   "source": [
    "file_loc = output_loc + \"matched_data.csv\"\n",
    "output_df.to_csv(file_loc)"
   ]
  },
  {
   "cell_type": "code",
   "execution_count": 292,
   "metadata": {},
   "outputs": [
    {
     "name": "stdout",
     "output_type": "stream",
     "text": [
      "(2890, 20)\n",
      "(33, 20)\n",
      "33 rows in the hospital data were not matched out of 222 total rows in hospital extract\n",
      "(2878, 26)\n",
      "(21, 26)\n",
      "21 rows in the payer data were not matched out of 265 total rows (for relevant payers only) in the payer extract\n"
     ]
    }
   ],
   "source": [
    "temp = hp.merge(pe_subset[['code', 'payer', 'hospital_name']], on=['code', 'payer', 'hospital_name'],\n",
    "                                         how='left', indicator=True)\n",
    "print(temp.shape)\n",
    "temp.head()\n",
    "\n",
    "unmatched_hospital = temp.loc[temp['_merge']=='left_only'].reset_index(drop=True)\n",
    "print(unmatched_hospital.shape)\n",
    "# saving unmatched rows\n",
    "unmatched_hospital.drop(columns=['_merge'], inplace=True)\n",
    "unmatched_hospital = unmatched_hospital.drop_duplicates().reset_index(drop=True)\n",
    "file_loc = output_loc + \"hospital_extract_unmatched_rows.csv\"\n",
    "unmatched_hospital.to_csv(file_loc, index=False)\n",
    "print(f\"{unmatched_hospital.shape[0]} rows in the hospital data were not matched out of {hp.shape[0]} total rows in hospital extract\")\n",
    "\n",
    "# repeating above for the payer extract\n",
    "temp = pe_subset.merge(hp[['code', 'payer', 'hospital_name']], on=['code', 'payer', 'hospital_name'],\n",
    "                                         how='left', indicator=True)\n",
    "print(temp.shape)\n",
    "temp.head()\n",
    "\n",
    "unmatched_payer = temp.loc[temp['_merge']=='left_only'].reset_index(drop=True)\n",
    "print(unmatched_payer.shape)\n",
    "# saving unmatched rows\n",
    "unmatched_payer.drop(columns=['_merge'], inplace=True)\n",
    "unmatched_payer = unmatched_payer.drop_duplicates().reset_index(drop=True)\n",
    "file_loc = output_loc + \"payer_extract_unmatched_rows.csv\"\n",
    "unmatched_payer.to_csv(file_loc, index=False)\n",
    "print(f\"{unmatched_payer.shape[0]} rows in the payer data were not matched out of {pe_subset.shape[0]} total rows (for relevant payers only) in the payer extract\")"
   ]
  }
 ],
 "metadata": {
  "kernelspec": {
   "display_name": "Python 3",
   "language": "python",
   "name": "python3"
  },
  "language_info": {
   "codemirror_mode": {
    "name": "ipython",
    "version": 3
   },
   "file_extension": ".py",
   "mimetype": "text/x-python",
   "name": "python",
   "nbconvert_exporter": "python",
   "pygments_lexer": "ipython3",
   "version": "3.8.8"
  }
 },
 "nbformat": 4,
 "nbformat_minor": 2
}
